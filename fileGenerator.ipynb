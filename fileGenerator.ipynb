{
 "cells": [
  {
   "cell_type": "code",
   "execution_count": 4,
   "metadata": {},
   "outputs": [],
   "source": [
    "import pandas as pd"
   ]
  },
  {
   "cell_type": "code",
   "execution_count": 3,
   "metadata": {},
   "outputs": [
    {
     "name": "stdout",
     "output_type": "stream",
     "text": [
      "                           Aseguradora                   Ramo  \\\n",
      "0    ASEGURADORA SOLIDARIA DE COLOMBIA  ACCIDENTES PERSONALES   \n",
      "1                 ALLIANZ SEGUROS S.A.            AUTOMOVILES   \n",
      "2                 ALLIANZ SEGUROS S.A.            AUTOMOVILES   \n",
      "3                 ALLIANZ SEGUROS S.A.            AUTOMOVILES   \n",
      "4                 ALLIANZ SEGUROS S.A.            AUTOMOVILES   \n",
      "..                                 ...                    ...   \n",
      "705           SEGUROS SURAMERICANA S.A        VIDA INDIVIDUAL   \n",
      "706           SEGUROS SURAMERICANA S.A        VIDA INDIVIDUAL   \n",
      "707           SEGUROS SURAMERICANA S.A        VIDA INDIVIDUAL   \n",
      "708           SEGUROS SURAMERICANA S.A               MAS VIDA   \n",
      "709           SEGUROS SURAMERICANA S.A               MAS VIDA   \n",
      "\n",
      "     SumaDePrima_Participacion  total x cia          Y  \\\n",
      "0                   43012984.0   43012984.0  5161558.0   \n",
      "1                    1171972.0          NaN   146497.0   \n",
      "2                    2161376.0          NaN   270172.0   \n",
      "3                    6818233.0          NaN   852279.0   \n",
      "4                    2621888.0          NaN   327736.0   \n",
      "..                         ...          ...        ...   \n",
      "705                   402475.0          NaN   110681.0   \n",
      "706                   781275.0          NaN   195319.0   \n",
      "707                   268460.0          NaN    49666.0   \n",
      "708                  3092714.0          NaN   601247.0   \n",
      "709                   152592.0   70654527.0    21936.0   \n",
      "\n",
      "     SumaDeValor_Comi_Gene_Recibos                         Tomador  \n",
      "0                        5161558.0        FUNDACION CLUB CAMPESTRE  \n",
      "1                         146497.0       CARLOS JUAN GOMEZ LONDOÑO  \n",
      "2                         270172.0     LUZ STELLA MONTOYA CALDERON  \n",
      "3                         852279.0              LEIDY LOPEZ ARCILA  \n",
      "4                         327736.0  MARIA ELISA VENEGAS DE ATUESTA  \n",
      "..                             ...                             ...  \n",
      "705                            0.0       JUAN CAMILO URIBE  MACIAS  \n",
      "706                            0.0       JUAN CAMILO URIBE  MACIAS  \n",
      "707                        66444.0    HILDA LUCIA RODRIGUEZ TAMAYO  \n",
      "708                       391677.0     LUIS IVAR VERGARA CASTAÑEDA  \n",
      "709                        41964.0    ELIANA MARIA ALVAREZ OBREGON  \n",
      "\n",
      "[708 rows x 7 columns]\n"
     ]
    }
   ],
   "source": [
    "# Read the Excel file\n",
    "file_path = 'BaseDatosJyA.xlsx'\n",
    "df = pd.read_excel(file_path)\n",
    "\n",
    "# Drop rows with any empty values\n",
    "cleaned_df = df.dropna(subset=['Aseguradora'])\n",
    "\n",
    "# Display the cleaned DataFrame\n",
    "print(cleaned_df)\n",
    "\n",
    "# Save the cleaned data to a new Excel file\n",
    "cleaned_df.to_excel('cleaned_BaseDatosJyA.xlsx', index=False)"
   ]
  },
  {
   "cell_type": "code",
   "execution_count": 22,
   "metadata": {},
   "outputs": [
    {
     "name": "stdout",
     "output_type": "stream",
     "text": [
      "Data has been successfully processed and saved to Producciones_por_Ramos_y_Compañias.xlsx\n"
     ]
    },
    {
     "name": "stderr",
     "output_type": "stream",
     "text": [
      "C:\\Users\\sebas\\AppData\\Local\\Temp\\ipykernel_34984\\3497893721.py:9: SettingWithCopyWarning: \n",
      "A value is trying to be set on a copy of a slice from a DataFrame.\n",
      "Try using .loc[row_indexer,col_indexer] = value instead\n",
      "\n",
      "See the caveats in the documentation: https://pandas.pydata.org/pandas-docs/stable/user_guide/indexing.html#returning-a-view-versus-a-copy\n",
      "  cleaned_df['Otras'] = cleaned_df.apply(lambda row: row['SumaDePrima_Participacion'] if row['Aseguradora'] not in insurance_companies else 0, axis=1)\n",
      "C:\\Users\\sebas\\AppData\\Local\\Temp\\ipykernel_34984\\3497893721.py:13: SettingWithCopyWarning: \n",
      "A value is trying to be set on a copy of a slice from a DataFrame.\n",
      "Try using .loc[row_indexer,col_indexer] = value instead\n",
      "\n",
      "See the caveats in the documentation: https://pandas.pydata.org/pandas-docs/stable/user_guide/indexing.html#returning-a-view-versus-a-copy\n",
      "  cleaned_df[company] = cleaned_df.apply(lambda row: row['SumaDePrima_Participacion'] if row['Aseguradora'] == company else 0, axis=1)\n"
     ]
    }
   ],
   "source": [
    "# Define a list of insurance companies\n",
    "insurance_companies = [\n",
    "    'SEGUROS SURAMERICANA S.A', 'SEGUROS BOLIVAR', 'HDI SEGUROS S.A', 'COMPAÑÍA MUNDIAL DE SEGUROS S A', 'Confianza', \n",
    "    'SBS SEGUROS COLOMBIA S.A.', 'SEGUROS DEL ESTADO S A', 'ASEGURADORA SOLIDARIA DE COLOMBIA', 'ALLIANZ SEGUROS S.A.', \n",
    "    'CHUBB DE COLOMBIA COMPAÑÍA SEGUROS S A', 'COMPAÑÍA ASEGURADORA DE FIANZAS S A'\n",
    "    ]\n",
    "\n",
    "# Add a column 'Otras' to handle insurance companies not in the predefined list\n",
    "cleaned_df['Otras'] = cleaned_df.apply(lambda row: row['SumaDePrima_Participacion'] if row['Aseguradora'] not in insurance_companies else 0, axis=1)\n",
    "\n",
    "# Initialize columns for each insurance company\n",
    "for company in insurance_companies:\n",
    "    cleaned_df[company] = cleaned_df.apply(lambda row: row['SumaDePrima_Participacion'] if row['Aseguradora'] == company else 0, axis=1)\n",
    "\n",
    "# Group by 'Ramo' and calculate the sum for 'Suma de Prima', 'Suma de Comision', and each insurance company\n",
    "grouped_df = cleaned_df.groupby('Ramo').agg(\n",
    "    Primas_Totales=pd.NamedAgg(column='SumaDePrima_Participacion', aggfunc='sum'),\n",
    "    Comisiones=pd.NamedAgg(column='SumaDeValor_Comi_Gene_Recibos', aggfunc='sum'),\n",
    "    Sura=pd.NamedAgg(column='SEGUROS SURAMERICANA S.A', aggfunc='sum'),\n",
    "    Bolivar=pd.NamedAgg(column='SEGUROS BOLIVAR', aggfunc='sum'),\n",
    "    HDI=pd.NamedAgg(column='HDI SEGUROS S.A', aggfunc='sum'),\n",
    "    Mundial=pd.NamedAgg(column='COMPAÑÍA MUNDIAL DE SEGUROS S A', aggfunc='sum'),\n",
    "    Confianza=pd.NamedAgg(column='Confianza', aggfunc='sum'),\n",
    "    SBS=pd.NamedAgg(column='SBS SEGUROS COLOMBIA S.A.', aggfunc='sum'),\n",
    "    S_del_Estado=pd.NamedAgg(column='SEGUROS DEL ESTADO S A', aggfunc='sum'),\n",
    "    Solidaria=pd.NamedAgg(column='ASEGURADORA SOLIDARIA DE COLOMBIA', aggfunc='sum'),\n",
    "    Allianz=pd.NamedAgg(column='ALLIANZ SEGUROS S.A.', aggfunc='sum'),\n",
    "    Chubb=pd.NamedAgg(column='CHUBB DE COLOMBIA COMPAÑÍA SEGUROS S A', aggfunc='sum'),\n",
    "    Finanzas=pd.NamedAgg(column='COMPAÑÍA ASEGURADORA DE FIANZAS S A', aggfunc='sum'),\n",
    "    Otras=pd.NamedAgg(column='Otras', aggfunc='sum')\n",
    ").reset_index()\n",
    "\n",
    "# Rename columns as required\n",
    "grouped_df.rename(columns={\n",
    "    'Ramo': 'Ramo (Tipo)',\n",
    "    'SumaDePrima_Participacion': 'Primas Totales',\n",
    "    'SumaDeValor_Comi_Gene_Recibos': 'Comisiones'\n",
    "}, inplace=True)\n",
    "\n",
    "# Save the grouped data to a new Excel file\n",
    "output_file_path = 'Producciones_por_Ramos_y_Compañias.xlsx'\n",
    "grouped_df.to_excel(output_file_path, index=False)\n",
    "\n",
    "print(f\"Data has been successfully processed and saved to {output_file_path}\")"
   ]
  }
 ],
 "metadata": {
  "kernelspec": {
   "display_name": "Python 3",
   "language": "python",
   "name": "python3"
  },
  "language_info": {
   "codemirror_mode": {
    "name": "ipython",
    "version": 3
   },
   "file_extension": ".py",
   "mimetype": "text/x-python",
   "name": "python",
   "nbconvert_exporter": "python",
   "pygments_lexer": "ipython3",
   "version": "3.12.3"
  }
 },
 "nbformat": 4,
 "nbformat_minor": 2
}
